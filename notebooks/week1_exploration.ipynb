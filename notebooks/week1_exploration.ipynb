# Week 1 Notebook

This notebook loads the NASA CMAPSS dataset, labels it with Remaining Useful Life (RUL), and trains a regression model.